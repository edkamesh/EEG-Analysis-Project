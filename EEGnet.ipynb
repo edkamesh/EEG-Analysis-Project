{
 "cells": [
  {
   "cell_type": "markdown",
   "id": "c1c98468-3a1a-49bb-9d5b-4c05851aaf3a",
   "metadata": {},
   "source": [
    "## EEG Data Preprocessing and EEGNet Model Training\n",
    "### Introduction\n",
    "\n",
    "This documentation provides a step-by-step guide on how to preprocess EEG data from EDF files, segment the data, and train an EEGNet model using TensorFlow/Keras. The dataset used is from the PhysioNet EEG recordings of subjects before and during mental arithmetic tasks.\n",
    "\n"
   ]
  },
  {
   "cell_type": "code",
   "execution_count": 1,
   "id": "e380368c-4ae5-42de-bcc1-76a7c671a901",
   "metadata": {},
   "outputs": [],
   "source": [
    "import os\n",
    "import pyedflib\n",
    "import numpy as np\n",
    "import pandas as pd\n",
    "from sklearn.preprocessing import StandardScaler\n",
    "from sklearn.model_selection import train_test_split\n",
    "from scipy.signal import resample\n",
    "import matplotlib.pyplot as plt\n"
   ]
  },
  {
   "cell_type": "markdown",
   "id": "d03ec33c-a400-46f1-97f0-693f382c4a3d",
   "metadata": {},
   "source": [
    "## Step 1: Loading EDF Files and Extracting Signals\n",
    "### Objective: Load EEG data from EDF files and extract the signals into numpy arrays.\n",
    "\n",
    "Explanation: EDF (European Data Format) files are commonly used for storing EEG data. The MNE library in Python is a powerful tool for loading and manipulating EEG data from EDF files. In this step, we read the EDF files from the specified folder, extract the EEG signals, and store them in a list."
   ]
  },
  {
   "cell_type": "code",
   "execution_count": 3,
   "id": "41030143-e355-47bd-bcb3-ee174e44f5a4",
   "metadata": {},
   "outputs": [
    {
     "name": "stdout",
     "output_type": "stream",
     "text": [
      "X_raw shape: (72, 21, 94000)\n"
     ]
    }
   ],
   "source": [
    "# Step 1: Load and Extract Signals from EDF Files\n",
    "def load_edf_files(folder_path):\n",
    "    edf_files = [os.path.join(folder_path, f) for f in os.listdir(folder_path) if f.endswith('.edf')]\n",
    "    all_signals = []\n",
    "    max_samples = 0\n",
    "    \n",
    "    # Determine the maximum number of samples across all files\n",
    "    for edf_file in edf_files:\n",
    "        edf_reader = pyedflib.EdfReader(edf_file)\n",
    "        max_samples = max(max_samples, edf_reader.getNSamples()[0])\n",
    "        edf_reader.close()\n",
    "    \n",
    "    for edf_file in edf_files:\n",
    "        edf_reader = pyedflib.EdfReader(edf_file)\n",
    "        num_channels = edf_reader.signals_in_file\n",
    "        signals = np.zeros((num_channels, max_samples))\n",
    "        \n",
    "        for i in range(num_channels):\n",
    "            signal = edf_reader.readSignal(i)\n",
    "            if len(signal) < max_samples:\n",
    "                # Pad with zeros if the signal is shorter than the max_samples\n",
    "                signal = np.pad(signal, (0, max_samples - len(signal)), 'constant')\n",
    "            signals[i, :] = signal\n",
    "        \n",
    "        all_signals.append(signals)\n",
    "        edf_reader.close()\n",
    "    \n",
    "    return np.array(all_signals), edf_files\n",
    "\n",
    "folder_path = \"C:/Users/kames/Downloads/eeg-during-mental-arithmetic-tasks-1.0.0/eeg-during-mental-arithmetic-tasks-1.0.0\"\n",
    "X_raw, edf_files = load_edf_files(folder_path)\n",
    "print(f\"X_raw shape: {X_raw.shape}\")"
   ]
  },
  {
   "cell_type": "code",
   "execution_count": 4,
   "id": "652b03d4-2a64-41da-8be9-903c06cfdd8e",
   "metadata": {},
   "outputs": [
    {
     "name": "stdout",
     "output_type": "stream",
     "text": [
      "y_raw shape: (72,)\n",
      "y_raw: [0 0 1 1 1 1 1 1 0 0 1 1 0 0 1 1 1 1 0 0 0 0 1 1 1 1 1 1 0 0 1 1 1 1 1 1 1\n",
      " 1 0 0 1 1 0 0 0 0 1 1 1 1 1 1 1 1 1 1 1 1 1 1 0 0 1 1 1 1 1 1 1 1 1 1]\n"
     ]
    }
   ],
   "source": [
    "import pandas as pd\n",
    "\n",
    "# Load subject information\n",
    "subject_info = pd.read_csv(\"C:/Users/kames/Downloads/subject-info.csv\")\n",
    "\n",
    "# Extract labels (assuming 'Count quality' is the column for labels)\n",
    "labels_dict = {str(row['Subject']): row['Count quality'] for _, row in subject_info.iterrows()}\n",
    "\n",
    "# Extract labels from file names\n",
    "def get_labels(edf_files, labels_dict):\n",
    "    labels = []\n",
    "    for file in edf_files:\n",
    "        subject_id = os.path.basename(file).split('_')[0]\n",
    "        if subject_id in labels_dict:\n",
    "            labels.append(labels_dict[subject_id])\n",
    "        else:\n",
    "            labels.append(None)  # Handle missing labels if necessary\n",
    "    return np.array(labels)\n",
    "\n",
    "y_raw = get_labels(edf_files, labels_dict)\n",
    "print(f\"y_raw shape: {y_raw.shape}\")\n",
    "print(f\"y_raw: {y_raw}\")\n"
   ]
  },
  {
   "cell_type": "code",
   "execution_count": 5,
   "id": "b94add22-23bd-4694-b405-418116b50acb",
   "metadata": {},
   "outputs": [
    {
     "name": "stdout",
     "output_type": "stream",
     "text": [
      "X_scaled shape: (72, 94000, 21, 1)\n"
     ]
    }
   ],
   "source": [
    "from sklearn.preprocessing import StandardScaler\n",
    "\n",
    "def preprocess_signals(signals):\n",
    "    # Transpose to have shape (samples, channels, time_points)\n",
    "    signals = np.transpose(signals, (0, 2, 1))\n",
    "    \n",
    "    # Reshape for CNN input (samples, channels, time_points, 1)\n",
    "    samples, time_points, channels = signals.shape\n",
    "    signals = signals.reshape(samples, time_points, channels, 1)\n",
    "    \n",
    "    # Normalize\n",
    "    scaler = StandardScaler()\n",
    "    signals_scaled = scaler.fit_transform(signals.reshape(-1, channels)).reshape(signals.shape)\n",
    "    \n",
    "    return signals_scaled\n",
    "\n",
    "X_scaled = preprocess_signals(X_raw)\n",
    "print(f\"X_scaled shape: {X_scaled.shape}\")\n"
   ]
  },
  {
   "cell_type": "markdown",
   "id": "b51fa31e-84e4-4e10-b5f7-5f744f11cf3c",
   "metadata": {},
   "source": [
    "## Step 2: Downsampling the Signals\n",
    "### Objective: Reduce the sampling rate of the EEG signals to make the data more manageable for processing.\n",
    "\n",
    "Explanation: EEG data often comes with a high sampling rate, such as 1000 Hz, which means there are 1000 data points per second. Downsampling reduces the number of data points, making it easier to handle computationally. Here, we downsample the signals from 1000 Hz to 250 Hz."
   ]
  },
  {
   "cell_type": "code",
   "execution_count": 6,
   "id": "b4ff6834-50d5-4206-b3ca-3129c035936d",
   "metadata": {},
   "outputs": [
    {
     "name": "stdout",
     "output_type": "stream",
     "text": [
      "X_downsampled shape: (72, 21, 23500)\n"
     ]
    }
   ],
   "source": [
    "from scipy.signal import resample\n",
    "\n",
    "def downsample_signals(signals, target_length):\n",
    "    downsampled_signals = []\n",
    "    for signal in signals:\n",
    "        num_channels = signal.shape[0]\n",
    "        downsampled_signal = np.zeros((num_channels, target_length))\n",
    "        for i in range(num_channels):\n",
    "            downsampled_signal[i, :] = resample(signal[i, :], target_length)\n",
    "        downsampled_signals.append(downsampled_signal)\n",
    "    return np.array(downsampled_signals)\n",
    "\n",
    "# Assuming we want to downsample to 250 Hz from 1000 Hz and the original length is 94000 (for 60 seconds at 1000 Hz)\n",
    "original_length = 94000\n",
    "target_length = int(original_length * 250 / 1000)\n",
    "\n",
    "X_downsampled = downsample_signals(X_raw, target_length)\n",
    "print(f\"X_downsampled shape: {X_downsampled.shape}\")\n"
   ]
  },
  {
   "cell_type": "markdown",
   "id": "e814c922-1123-4a8f-be23-b2a9f704f78a",
   "metadata": {},
   "source": [
    "## Step 3: Segmenting the Signals\n",
    "### Objective: Split the continuous EEG signals into shorter, fixed-length segments.\n",
    "\n",
    "Explanation: Segmenting the EEG data into shorter chunks (e.g., 1-second segments) can improve the performance of machine learning models by providing more training samples. Overlapping segments can also be used to increase the dataset size further. In this step, we split the signals into 1-second segments with a 50% overlap."
   ]
  },
  {
   "cell_type": "code",
   "execution_count": 7,
   "id": "cb815d67-8b23-42b7-88b5-1906685852ab",
   "metadata": {},
   "outputs": [
    {
     "name": "stdout",
     "output_type": "stream",
     "text": [
      "X_segmented shape: (13464, 21, 250)\n"
     ]
    }
   ],
   "source": [
    "def segment_signals(signals, segment_length, overlap):\n",
    "    segments = []\n",
    "    for signal in signals:\n",
    "        num_channels, num_time_points = signal.shape\n",
    "        for start in range(0, num_time_points - segment_length + 1, segment_length // overlap):\n",
    "            segments.append(signal[:, start:start + segment_length])\n",
    "    return np.array(segments)\n",
    "\n",
    "segment_length = 250  # 1 second segments\n",
    "overlap = 2  # 50% overlap\n",
    "\n",
    "X_segmented = segment_signals(X_downsampled, segment_length, overlap)\n",
    "print(f\"X_segmented shape: {X_segmented.shape}\")\n"
   ]
  },
  {
   "cell_type": "markdown",
   "id": "482d84aa-c24d-434e-a577-10eb1bbbcba8",
   "metadata": {},
   "source": [
    "## Step 4: Preprocessing the Signals\n",
    "### Objective: Normalize and reshape the segmented signals to prepare them for input into the neural network.\n",
    "\n",
    "Explanation: Normalization ensures that the features have similar scales, which helps in faster convergence during training. The segmented signals are reshaped to match the input shape expected by the EEGNet model, which is (samples, time points, channels, 1)."
   ]
  },
  {
   "cell_type": "code",
   "execution_count": 8,
   "id": "c0d73fc7-dab7-43d6-99b5-010efa38eb59",
   "metadata": {},
   "outputs": [
    {
     "name": "stdout",
     "output_type": "stream",
     "text": [
      "X_preprocessed shape: (13464, 250, 21, 1)\n"
     ]
    }
   ],
   "source": [
    "def preprocess_signals(signals):\n",
    "    samples, channels, time_points = signals.shape\n",
    "    signals = signals.transpose((0, 2, 1)).reshape(samples, time_points, channels, 1)\n",
    "    \n",
    "    scaler = StandardScaler()\n",
    "    signals_scaled = scaler.fit_transform(signals.reshape(-1, channels)).reshape(signals.shape)\n",
    "    \n",
    "    return signals_scaled\n",
    "\n",
    "X_preprocessed = preprocess_signals(X_segmented)\n",
    "print(f\"X_preprocessed shape: {X_preprocessed.shape}\")"
   ]
  },
  {
   "cell_type": "markdown",
   "id": "49291e09-cb63-47f3-9371-7b525fd52301",
   "metadata": {},
   "source": [
    "## Step 5: Creating Labels\n",
    "### Objective: Ensure that each segmented signal has a corresponding label.\n",
    "\n",
    "Explanation: Since we have segmented the data, we need to repeat the labels for each segment. This step ensures that each segment has a label corresponding to its original signal.\n",
    "\n"
   ]
  },
  {
   "cell_type": "code",
   "execution_count": 9,
   "id": "cd150cbf-3190-474c-bcd9-c6eccf7dc2dd",
   "metadata": {},
   "outputs": [
    {
     "name": "stdout",
     "output_type": "stream",
     "text": [
      "y_repeated shape: (13464,)\n"
     ]
    }
   ],
   "source": [
    "# Repeat labels to match the number of segments per original sample\n",
    "num_segments_per_sample = X_segmented.shape[0] // len(X_downsampled)\n",
    "y_repeated = np.repeat(y_raw, num_segments_per_sample)\n",
    "print(f\"y_repeated shape: {y_repeated.shape}\")\n",
    "\n"
   ]
  },
  {
   "cell_type": "markdown",
   "id": "94b07c32-ac81-48cf-bcb1-4bcd3f2ea68c",
   "metadata": {},
   "source": [
    "## Step 6: Splitting the Dataset\n",
    "### Objective: Split the dataset into training and testing sets.\n",
    "\n",
    "Explanation: To evaluate the performance of the model, we need to separate the data into training and testing sets. The training set is used to train the model, while the testing set is used to evaluate its performance on unseen data."
   ]
  },
  {
   "cell_type": "code",
   "execution_count": 10,
   "id": "ee8e9e63-b1b6-44ce-a307-25fb670f70f2",
   "metadata": {},
   "outputs": [
    {
     "name": "stdout",
     "output_type": "stream",
     "text": [
      "X_train shape: (10771, 250, 21, 1)\n",
      "X_test shape: (2693, 250, 21, 1)\n",
      "y_train shape: (10771,)\n",
      "y_test shape: (2693,)\n"
     ]
    }
   ],
   "source": [
    "from sklearn.model_selection import train_test_split\n",
    "\n",
    "X_train, X_test, y_train, y_test = train_test_split(X_preprocessed, y_repeated, test_size=0.2, random_state=42)\n",
    "print(f\"X_train shape: {X_train.shape}\")\n",
    "print(f\"X_test shape: {X_test.shape}\")\n",
    "print(f\"y_train shape: {y_train.shape}\")\n",
    "print(f\"y_test shape: {y_test.shape}\")\n"
   ]
  },
  {
   "cell_type": "markdown",
   "id": "417f3d6c-975f-4d48-8e7e-f6bfa9b2ca21",
   "metadata": {},
   "source": [
    "## Step 7: Building the EEGNet Model\n",
    "### Objective: Define the architecture of the EEGNet model.\n",
    "\n",
    "Explanation: EEGNet is a compact convolutional neural network (CNN) architecture designed for EEG signal classification. The model consists of several convolutional layers, followed by depthwise and separable convolutions, which help in learning spatial and temporal features from the EEG data.\n",
    "\n"
   ]
  },
  {
   "cell_type": "code",
   "execution_count": 11,
   "id": "3f136ccb-63cd-4a61-8ba3-d44a983167a3",
   "metadata": {},
   "outputs": [
    {
     "data": {
      "text/html": [
       "<pre style=\"white-space:pre;overflow-x:auto;line-height:normal;font-family:Menlo,'DejaVu Sans Mono',consolas,'Courier New',monospace\"><span style=\"font-weight: bold\">Model: \"functional\"</span>\n",
       "</pre>\n"
      ],
      "text/plain": [
       "\u001b[1mModel: \"functional\"\u001b[0m\n"
      ]
     },
     "metadata": {},
     "output_type": "display_data"
    },
    {
     "data": {
      "text/html": [
       "<pre style=\"white-space:pre;overflow-x:auto;line-height:normal;font-family:Menlo,'DejaVu Sans Mono',consolas,'Courier New',monospace\">┏━━━━━━━━━━━━━━━━━━━━━━━━━━━━━━━━━━━━━━┳━━━━━━━━━━━━━━━━━━━━━━━━━━━━━┳━━━━━━━━━━━━━━━━━┓\n",
       "┃<span style=\"font-weight: bold\"> Layer (type)                         </span>┃<span style=\"font-weight: bold\"> Output Shape                </span>┃<span style=\"font-weight: bold\">         Param # </span>┃\n",
       "┡━━━━━━━━━━━━━━━━━━━━━━━━━━━━━━━━━━━━━━╇━━━━━━━━━━━━━━━━━━━━━━━━━━━━━╇━━━━━━━━━━━━━━━━━┩\n",
       "│ input_layer (<span style=\"color: #0087ff; text-decoration-color: #0087ff\">InputLayer</span>)             │ (<span style=\"color: #00d7ff; text-decoration-color: #00d7ff\">None</span>, <span style=\"color: #00af00; text-decoration-color: #00af00\">250</span>, <span style=\"color: #00af00; text-decoration-color: #00af00\">21</span>, <span style=\"color: #00af00; text-decoration-color: #00af00\">1</span>)          │               <span style=\"color: #00af00; text-decoration-color: #00af00\">0</span> │\n",
       "├──────────────────────────────────────┼─────────────────────────────┼─────────────────┤\n",
       "│ conv2d (<span style=\"color: #0087ff; text-decoration-color: #0087ff\">Conv2D</span>)                      │ (<span style=\"color: #00d7ff; text-decoration-color: #00d7ff\">None</span>, <span style=\"color: #00af00; text-decoration-color: #00af00\">250</span>, <span style=\"color: #00af00; text-decoration-color: #00af00\">21</span>, <span style=\"color: #00af00; text-decoration-color: #00af00\">8</span>)          │             <span style=\"color: #00af00; text-decoration-color: #00af00\">512</span> │\n",
       "├──────────────────────────────────────┼─────────────────────────────┼─────────────────┤\n",
       "│ batch_normalization                  │ (<span style=\"color: #00d7ff; text-decoration-color: #00d7ff\">None</span>, <span style=\"color: #00af00; text-decoration-color: #00af00\">250</span>, <span style=\"color: #00af00; text-decoration-color: #00af00\">21</span>, <span style=\"color: #00af00; text-decoration-color: #00af00\">8</span>)          │              <span style=\"color: #00af00; text-decoration-color: #00af00\">32</span> │\n",
       "│ (<span style=\"color: #0087ff; text-decoration-color: #0087ff\">BatchNormalization</span>)                 │                             │                 │\n",
       "├──────────────────────────────────────┼─────────────────────────────┼─────────────────┤\n",
       "│ depthwise_conv2d (<span style=\"color: #0087ff; text-decoration-color: #0087ff\">DepthwiseConv2D</span>)   │ (<span style=\"color: #00d7ff; text-decoration-color: #00d7ff\">None</span>, <span style=\"color: #00af00; text-decoration-color: #00af00\">250</span>, <span style=\"color: #00af00; text-decoration-color: #00af00\">1</span>, <span style=\"color: #00af00; text-decoration-color: #00af00\">16</span>)          │             <span style=\"color: #00af00; text-decoration-color: #00af00\">336</span> │\n",
       "├──────────────────────────────────────┼─────────────────────────────┼─────────────────┤\n",
       "│ batch_normalization_1                │ (<span style=\"color: #00d7ff; text-decoration-color: #00d7ff\">None</span>, <span style=\"color: #00af00; text-decoration-color: #00af00\">250</span>, <span style=\"color: #00af00; text-decoration-color: #00af00\">1</span>, <span style=\"color: #00af00; text-decoration-color: #00af00\">16</span>)          │              <span style=\"color: #00af00; text-decoration-color: #00af00\">64</span> │\n",
       "│ (<span style=\"color: #0087ff; text-decoration-color: #0087ff\">BatchNormalization</span>)                 │                             │                 │\n",
       "├──────────────────────────────────────┼─────────────────────────────┼─────────────────┤\n",
       "│ activation (<span style=\"color: #0087ff; text-decoration-color: #0087ff\">Activation</span>)              │ (<span style=\"color: #00d7ff; text-decoration-color: #00d7ff\">None</span>, <span style=\"color: #00af00; text-decoration-color: #00af00\">250</span>, <span style=\"color: #00af00; text-decoration-color: #00af00\">1</span>, <span style=\"color: #00af00; text-decoration-color: #00af00\">16</span>)          │               <span style=\"color: #00af00; text-decoration-color: #00af00\">0</span> │\n",
       "├──────────────────────────────────────┼─────────────────────────────┼─────────────────┤\n",
       "│ average_pooling2d (<span style=\"color: #0087ff; text-decoration-color: #0087ff\">AveragePooling2D</span>) │ (<span style=\"color: #00d7ff; text-decoration-color: #00d7ff\">None</span>, <span style=\"color: #00af00; text-decoration-color: #00af00\">62</span>, <span style=\"color: #00af00; text-decoration-color: #00af00\">1</span>, <span style=\"color: #00af00; text-decoration-color: #00af00\">16</span>)           │               <span style=\"color: #00af00; text-decoration-color: #00af00\">0</span> │\n",
       "├──────────────────────────────────────┼─────────────────────────────┼─────────────────┤\n",
       "│ dropout (<span style=\"color: #0087ff; text-decoration-color: #0087ff\">Dropout</span>)                    │ (<span style=\"color: #00d7ff; text-decoration-color: #00d7ff\">None</span>, <span style=\"color: #00af00; text-decoration-color: #00af00\">62</span>, <span style=\"color: #00af00; text-decoration-color: #00af00\">1</span>, <span style=\"color: #00af00; text-decoration-color: #00af00\">16</span>)           │               <span style=\"color: #00af00; text-decoration-color: #00af00\">0</span> │\n",
       "├──────────────────────────────────────┼─────────────────────────────┼─────────────────┤\n",
       "│ separable_conv2d (<span style=\"color: #0087ff; text-decoration-color: #0087ff\">SeparableConv2D</span>)   │ (<span style=\"color: #00d7ff; text-decoration-color: #00d7ff\">None</span>, <span style=\"color: #00af00; text-decoration-color: #00af00\">62</span>, <span style=\"color: #00af00; text-decoration-color: #00af00\">1</span>, <span style=\"color: #00af00; text-decoration-color: #00af00\">16</span>)           │             <span style=\"color: #00af00; text-decoration-color: #00af00\">512</span> │\n",
       "├──────────────────────────────────────┼─────────────────────────────┼─────────────────┤\n",
       "│ batch_normalization_2                │ (<span style=\"color: #00d7ff; text-decoration-color: #00d7ff\">None</span>, <span style=\"color: #00af00; text-decoration-color: #00af00\">62</span>, <span style=\"color: #00af00; text-decoration-color: #00af00\">1</span>, <span style=\"color: #00af00; text-decoration-color: #00af00\">16</span>)           │              <span style=\"color: #00af00; text-decoration-color: #00af00\">64</span> │\n",
       "│ (<span style=\"color: #0087ff; text-decoration-color: #0087ff\">BatchNormalization</span>)                 │                             │                 │\n",
       "├──────────────────────────────────────┼─────────────────────────────┼─────────────────┤\n",
       "│ activation_1 (<span style=\"color: #0087ff; text-decoration-color: #0087ff\">Activation</span>)            │ (<span style=\"color: #00d7ff; text-decoration-color: #00d7ff\">None</span>, <span style=\"color: #00af00; text-decoration-color: #00af00\">62</span>, <span style=\"color: #00af00; text-decoration-color: #00af00\">1</span>, <span style=\"color: #00af00; text-decoration-color: #00af00\">16</span>)           │               <span style=\"color: #00af00; text-decoration-color: #00af00\">0</span> │\n",
       "├──────────────────────────────────────┼─────────────────────────────┼─────────────────┤\n",
       "│ average_pooling2d_1                  │ (<span style=\"color: #00d7ff; text-decoration-color: #00d7ff\">None</span>, <span style=\"color: #00af00; text-decoration-color: #00af00\">7</span>, <span style=\"color: #00af00; text-decoration-color: #00af00\">1</span>, <span style=\"color: #00af00; text-decoration-color: #00af00\">16</span>)            │               <span style=\"color: #00af00; text-decoration-color: #00af00\">0</span> │\n",
       "│ (<span style=\"color: #0087ff; text-decoration-color: #0087ff\">AveragePooling2D</span>)                   │                             │                 │\n",
       "├──────────────────────────────────────┼─────────────────────────────┼─────────────────┤\n",
       "│ dropout_1 (<span style=\"color: #0087ff; text-decoration-color: #0087ff\">Dropout</span>)                  │ (<span style=\"color: #00d7ff; text-decoration-color: #00d7ff\">None</span>, <span style=\"color: #00af00; text-decoration-color: #00af00\">7</span>, <span style=\"color: #00af00; text-decoration-color: #00af00\">1</span>, <span style=\"color: #00af00; text-decoration-color: #00af00\">16</span>)            │               <span style=\"color: #00af00; text-decoration-color: #00af00\">0</span> │\n",
       "├──────────────────────────────────────┼─────────────────────────────┼─────────────────┤\n",
       "│ flatten (<span style=\"color: #0087ff; text-decoration-color: #0087ff\">Flatten</span>)                    │ (<span style=\"color: #00d7ff; text-decoration-color: #00d7ff\">None</span>, <span style=\"color: #00af00; text-decoration-color: #00af00\">112</span>)                 │               <span style=\"color: #00af00; text-decoration-color: #00af00\">0</span> │\n",
       "├──────────────────────────────────────┼─────────────────────────────┼─────────────────┤\n",
       "│ dense (<span style=\"color: #0087ff; text-decoration-color: #0087ff\">Dense</span>)                        │ (<span style=\"color: #00d7ff; text-decoration-color: #00d7ff\">None</span>, <span style=\"color: #00af00; text-decoration-color: #00af00\">2</span>)                   │             <span style=\"color: #00af00; text-decoration-color: #00af00\">226</span> │\n",
       "├──────────────────────────────────────┼─────────────────────────────┼─────────────────┤\n",
       "│ softmax (<span style=\"color: #0087ff; text-decoration-color: #0087ff\">Activation</span>)                 │ (<span style=\"color: #00d7ff; text-decoration-color: #00d7ff\">None</span>, <span style=\"color: #00af00; text-decoration-color: #00af00\">2</span>)                   │               <span style=\"color: #00af00; text-decoration-color: #00af00\">0</span> │\n",
       "└──────────────────────────────────────┴─────────────────────────────┴─────────────────┘\n",
       "</pre>\n"
      ],
      "text/plain": [
       "┏━━━━━━━━━━━━━━━━━━━━━━━━━━━━━━━━━━━━━━┳━━━━━━━━━━━━━━━━━━━━━━━━━━━━━┳━━━━━━━━━━━━━━━━━┓\n",
       "┃\u001b[1m \u001b[0m\u001b[1mLayer (type)                        \u001b[0m\u001b[1m \u001b[0m┃\u001b[1m \u001b[0m\u001b[1mOutput Shape               \u001b[0m\u001b[1m \u001b[0m┃\u001b[1m \u001b[0m\u001b[1m        Param #\u001b[0m\u001b[1m \u001b[0m┃\n",
       "┡━━━━━━━━━━━━━━━━━━━━━━━━━━━━━━━━━━━━━━╇━━━━━━━━━━━━━━━━━━━━━━━━━━━━━╇━━━━━━━━━━━━━━━━━┩\n",
       "│ input_layer (\u001b[38;5;33mInputLayer\u001b[0m)             │ (\u001b[38;5;45mNone\u001b[0m, \u001b[38;5;34m250\u001b[0m, \u001b[38;5;34m21\u001b[0m, \u001b[38;5;34m1\u001b[0m)          │               \u001b[38;5;34m0\u001b[0m │\n",
       "├──────────────────────────────────────┼─────────────────────────────┼─────────────────┤\n",
       "│ conv2d (\u001b[38;5;33mConv2D\u001b[0m)                      │ (\u001b[38;5;45mNone\u001b[0m, \u001b[38;5;34m250\u001b[0m, \u001b[38;5;34m21\u001b[0m, \u001b[38;5;34m8\u001b[0m)          │             \u001b[38;5;34m512\u001b[0m │\n",
       "├──────────────────────────────────────┼─────────────────────────────┼─────────────────┤\n",
       "│ batch_normalization                  │ (\u001b[38;5;45mNone\u001b[0m, \u001b[38;5;34m250\u001b[0m, \u001b[38;5;34m21\u001b[0m, \u001b[38;5;34m8\u001b[0m)          │              \u001b[38;5;34m32\u001b[0m │\n",
       "│ (\u001b[38;5;33mBatchNormalization\u001b[0m)                 │                             │                 │\n",
       "├──────────────────────────────────────┼─────────────────────────────┼─────────────────┤\n",
       "│ depthwise_conv2d (\u001b[38;5;33mDepthwiseConv2D\u001b[0m)   │ (\u001b[38;5;45mNone\u001b[0m, \u001b[38;5;34m250\u001b[0m, \u001b[38;5;34m1\u001b[0m, \u001b[38;5;34m16\u001b[0m)          │             \u001b[38;5;34m336\u001b[0m │\n",
       "├──────────────────────────────────────┼─────────────────────────────┼─────────────────┤\n",
       "│ batch_normalization_1                │ (\u001b[38;5;45mNone\u001b[0m, \u001b[38;5;34m250\u001b[0m, \u001b[38;5;34m1\u001b[0m, \u001b[38;5;34m16\u001b[0m)          │              \u001b[38;5;34m64\u001b[0m │\n",
       "│ (\u001b[38;5;33mBatchNormalization\u001b[0m)                 │                             │                 │\n",
       "├──────────────────────────────────────┼─────────────────────────────┼─────────────────┤\n",
       "│ activation (\u001b[38;5;33mActivation\u001b[0m)              │ (\u001b[38;5;45mNone\u001b[0m, \u001b[38;5;34m250\u001b[0m, \u001b[38;5;34m1\u001b[0m, \u001b[38;5;34m16\u001b[0m)          │               \u001b[38;5;34m0\u001b[0m │\n",
       "├──────────────────────────────────────┼─────────────────────────────┼─────────────────┤\n",
       "│ average_pooling2d (\u001b[38;5;33mAveragePooling2D\u001b[0m) │ (\u001b[38;5;45mNone\u001b[0m, \u001b[38;5;34m62\u001b[0m, \u001b[38;5;34m1\u001b[0m, \u001b[38;5;34m16\u001b[0m)           │               \u001b[38;5;34m0\u001b[0m │\n",
       "├──────────────────────────────────────┼─────────────────────────────┼─────────────────┤\n",
       "│ dropout (\u001b[38;5;33mDropout\u001b[0m)                    │ (\u001b[38;5;45mNone\u001b[0m, \u001b[38;5;34m62\u001b[0m, \u001b[38;5;34m1\u001b[0m, \u001b[38;5;34m16\u001b[0m)           │               \u001b[38;5;34m0\u001b[0m │\n",
       "├──────────────────────────────────────┼─────────────────────────────┼─────────────────┤\n",
       "│ separable_conv2d (\u001b[38;5;33mSeparableConv2D\u001b[0m)   │ (\u001b[38;5;45mNone\u001b[0m, \u001b[38;5;34m62\u001b[0m, \u001b[38;5;34m1\u001b[0m, \u001b[38;5;34m16\u001b[0m)           │             \u001b[38;5;34m512\u001b[0m │\n",
       "├──────────────────────────────────────┼─────────────────────────────┼─────────────────┤\n",
       "│ batch_normalization_2                │ (\u001b[38;5;45mNone\u001b[0m, \u001b[38;5;34m62\u001b[0m, \u001b[38;5;34m1\u001b[0m, \u001b[38;5;34m16\u001b[0m)           │              \u001b[38;5;34m64\u001b[0m │\n",
       "│ (\u001b[38;5;33mBatchNormalization\u001b[0m)                 │                             │                 │\n",
       "├──────────────────────────────────────┼─────────────────────────────┼─────────────────┤\n",
       "│ activation_1 (\u001b[38;5;33mActivation\u001b[0m)            │ (\u001b[38;5;45mNone\u001b[0m, \u001b[38;5;34m62\u001b[0m, \u001b[38;5;34m1\u001b[0m, \u001b[38;5;34m16\u001b[0m)           │               \u001b[38;5;34m0\u001b[0m │\n",
       "├──────────────────────────────────────┼─────────────────────────────┼─────────────────┤\n",
       "│ average_pooling2d_1                  │ (\u001b[38;5;45mNone\u001b[0m, \u001b[38;5;34m7\u001b[0m, \u001b[38;5;34m1\u001b[0m, \u001b[38;5;34m16\u001b[0m)            │               \u001b[38;5;34m0\u001b[0m │\n",
       "│ (\u001b[38;5;33mAveragePooling2D\u001b[0m)                   │                             │                 │\n",
       "├──────────────────────────────────────┼─────────────────────────────┼─────────────────┤\n",
       "│ dropout_1 (\u001b[38;5;33mDropout\u001b[0m)                  │ (\u001b[38;5;45mNone\u001b[0m, \u001b[38;5;34m7\u001b[0m, \u001b[38;5;34m1\u001b[0m, \u001b[38;5;34m16\u001b[0m)            │               \u001b[38;5;34m0\u001b[0m │\n",
       "├──────────────────────────────────────┼─────────────────────────────┼─────────────────┤\n",
       "│ flatten (\u001b[38;5;33mFlatten\u001b[0m)                    │ (\u001b[38;5;45mNone\u001b[0m, \u001b[38;5;34m112\u001b[0m)                 │               \u001b[38;5;34m0\u001b[0m │\n",
       "├──────────────────────────────────────┼─────────────────────────────┼─────────────────┤\n",
       "│ dense (\u001b[38;5;33mDense\u001b[0m)                        │ (\u001b[38;5;45mNone\u001b[0m, \u001b[38;5;34m2\u001b[0m)                   │             \u001b[38;5;34m226\u001b[0m │\n",
       "├──────────────────────────────────────┼─────────────────────────────┼─────────────────┤\n",
       "│ softmax (\u001b[38;5;33mActivation\u001b[0m)                 │ (\u001b[38;5;45mNone\u001b[0m, \u001b[38;5;34m2\u001b[0m)                   │               \u001b[38;5;34m0\u001b[0m │\n",
       "└──────────────────────────────────────┴─────────────────────────────┴─────────────────┘\n"
      ]
     },
     "metadata": {},
     "output_type": "display_data"
    },
    {
     "data": {
      "text/html": [
       "<pre style=\"white-space:pre;overflow-x:auto;line-height:normal;font-family:Menlo,'DejaVu Sans Mono',consolas,'Courier New',monospace\"><span style=\"font-weight: bold\"> Total params: </span><span style=\"color: #00af00; text-decoration-color: #00af00\">1,746</span> (6.82 KB)\n",
       "</pre>\n"
      ],
      "text/plain": [
       "\u001b[1m Total params: \u001b[0m\u001b[38;5;34m1,746\u001b[0m (6.82 KB)\n"
      ]
     },
     "metadata": {},
     "output_type": "display_data"
    },
    {
     "data": {
      "text/html": [
       "<pre style=\"white-space:pre;overflow-x:auto;line-height:normal;font-family:Menlo,'DejaVu Sans Mono',consolas,'Courier New',monospace\"><span style=\"font-weight: bold\"> Trainable params: </span><span style=\"color: #00af00; text-decoration-color: #00af00\">1,666</span> (6.51 KB)\n",
       "</pre>\n"
      ],
      "text/plain": [
       "\u001b[1m Trainable params: \u001b[0m\u001b[38;5;34m1,666\u001b[0m (6.51 KB)\n"
      ]
     },
     "metadata": {},
     "output_type": "display_data"
    },
    {
     "data": {
      "text/html": [
       "<pre style=\"white-space:pre;overflow-x:auto;line-height:normal;font-family:Menlo,'DejaVu Sans Mono',consolas,'Courier New',monospace\"><span style=\"font-weight: bold\"> Non-trainable params: </span><span style=\"color: #00af00; text-decoration-color: #00af00\">80</span> (320.00 B)\n",
       "</pre>\n"
      ],
      "text/plain": [
       "\u001b[1m Non-trainable params: \u001b[0m\u001b[38;5;34m80\u001b[0m (320.00 B)\n"
      ]
     },
     "metadata": {},
     "output_type": "display_data"
    }
   ],
   "source": [
    "import tensorflow as tf\n",
    "from tensorflow.keras.models import Model\n",
    "from tensorflow.keras.layers import Input, Conv2D, BatchNormalization, DepthwiseConv2D, AveragePooling2D, SeparableConv2D, Dropout, Flatten, Dense\n",
    "\n",
    "def EEGNet(nb_classes, Chans=21, Samples=250, dropoutRate=0.5, kernLength=64, F1=8, D=2, F2=16, norm_rate=0.25):\n",
    "    input1 = Input(shape=(Samples, Chans, 1))\n",
    "\n",
    "    block1 = Conv2D(F1, (kernLength, 1), padding='same', use_bias=False)(input1)\n",
    "    block1 = BatchNormalization()(block1)\n",
    "    block1 = DepthwiseConv2D((1, Chans), use_bias=False, depth_multiplier=D, depthwise_constraint=tf.keras.constraints.max_norm(1.))(block1)\n",
    "    block1 = BatchNormalization()(block1)\n",
    "    block1 = tf.keras.layers.Activation('elu')(block1)\n",
    "    block1 = AveragePooling2D((4, 1))(block1)\n",
    "    block1 = Dropout(dropoutRate)(block1)\n",
    "\n",
    "    block2 = SeparableConv2D(F2, (16, 1), use_bias=False, padding='same')(block1)\n",
    "    block2 = BatchNormalization()(block2)\n",
    "    block2 = tf.keras.layers.Activation('elu')(block2)\n",
    "    block2 = AveragePooling2D((8, 1))(block2)\n",
    "    block2 = Dropout(dropoutRate)(block2)\n",
    "\n",
    "    flatten = Flatten(name='flatten')(block2)\n",
    "\n",
    "    dense = Dense(nb_classes, name='dense', kernel_constraint=tf.keras.constraints.max_norm(norm_rate))(flatten)\n",
    "    softmax = tf.keras.layers.Activation('softmax', name='softmax')(dense)\n",
    "\n",
    "    return Model(inputs=input1, outputs=softmax)\n",
    "\n",
    "# Parameters\n",
    "nb_classes = len(np.unique(y_train))  # Number of classes\n",
    "\n",
    "# Create the model\n",
    "eegnet = EEGNet(nb_classes=nb_classes, Chans=21, Samples=250, dropoutRate=0.5, kernLength=64, F1=8, D=2, F2=16, norm_rate=0.25)\n",
    "\n",
    "# Compile the model\n",
    "eegnet.compile(optimizer='adam', loss='sparse_categorical_crossentropy', metrics=['accuracy'])\n",
    "\n",
    "# Print the model summary\n",
    "eegnet.summary()\n"
   ]
  },
  {
   "cell_type": "markdown",
   "id": "7e18ed66-6dd0-4f68-a9d9-9414b2b762d4",
   "metadata": {},
   "source": [
    "## Step 8: Compiling, Training, and Evaluating the EEGNet Model\n",
    "### Objective: Compile, train, and evaluate the EEGNet model for classification tasks using EEG data.\n",
    "\n",
    "Explanation: This step involves creating, compiling, training, and evaluating an EEGNet model using TensorFlow/Keras. EEGNet is a convolutional neural network architecture designed for processing EEG signals and performing classification tasks."
   ]
  },
  {
   "cell_type": "code",
   "execution_count": 12,
   "id": "2685dc1a-11ae-40f1-8436-d8073b511bca",
   "metadata": {},
   "outputs": [
    {
     "name": "stdout",
     "output_type": "stream",
     "text": [
      "Epoch 1/100\n",
      "\u001b[1m337/337\u001b[0m \u001b[32m━━━━━━━━━━━━━━━━━━━━\u001b[0m\u001b[37m\u001b[0m \u001b[1m75s\u001b[0m 102ms/step - accuracy: 0.6985 - loss: 0.6171 - val_accuracy: 0.7230 - val_loss: 0.5551\n",
      "Epoch 2/100\n",
      "\u001b[1m337/337\u001b[0m \u001b[32m━━━━━━━━━━━━━━━━━━━━\u001b[0m\u001b[37m\u001b[0m \u001b[1m20s\u001b[0m 59ms/step - accuracy: 0.7541 - loss: 0.5285 - val_accuracy: 0.8099 - val_loss: 0.4558\n",
      "Epoch 3/100\n",
      "\u001b[1m337/337\u001b[0m \u001b[32m━━━━━━━━━━━━━━━━━━━━\u001b[0m\u001b[37m\u001b[0m \u001b[1m20s\u001b[0m 60ms/step - accuracy: 0.7827 - loss: 0.4911 - val_accuracy: 0.8303 - val_loss: 0.4299\n",
      "Epoch 4/100\n",
      "\u001b[1m337/337\u001b[0m \u001b[32m━━━━━━━━━━━━━━━━━━━━\u001b[0m\u001b[37m\u001b[0m \u001b[1m20s\u001b[0m 59ms/step - accuracy: 0.8058 - loss: 0.4478 - val_accuracy: 0.8414 - val_loss: 0.3879\n",
      "Epoch 5/100\n",
      "\u001b[1m337/337\u001b[0m \u001b[32m━━━━━━━━━━━━━━━━━━━━\u001b[0m\u001b[37m\u001b[0m \u001b[1m22s\u001b[0m 64ms/step - accuracy: 0.8080 - loss: 0.4370 - val_accuracy: 0.8485 - val_loss: 0.3632\n",
      "Epoch 6/100\n",
      "\u001b[1m337/337\u001b[0m \u001b[32m━━━━━━━━━━━━━━━━━━━━\u001b[0m\u001b[37m\u001b[0m \u001b[1m22s\u001b[0m 65ms/step - accuracy: 0.8101 - loss: 0.4311 - val_accuracy: 0.8593 - val_loss: 0.3554\n",
      "Epoch 7/100\n",
      "\u001b[1m337/337\u001b[0m \u001b[32m━━━━━━━━━━━━━━━━━━━━\u001b[0m\u001b[37m\u001b[0m \u001b[1m20s\u001b[0m 60ms/step - accuracy: 0.8263 - loss: 0.4091 - val_accuracy: 0.8585 - val_loss: 0.3493\n",
      "Epoch 8/100\n",
      "\u001b[1m337/337\u001b[0m \u001b[32m━━━━━━━━━━━━━━━━━━━━\u001b[0m\u001b[37m\u001b[0m \u001b[1m21s\u001b[0m 61ms/step - accuracy: 0.8273 - loss: 0.4027 - val_accuracy: 0.8689 - val_loss: 0.3305\n",
      "Epoch 9/100\n",
      "\u001b[1m337/337\u001b[0m \u001b[32m━━━━━━━━━━━━━━━━━━━━\u001b[0m\u001b[37m\u001b[0m \u001b[1m21s\u001b[0m 61ms/step - accuracy: 0.8280 - loss: 0.3948 - val_accuracy: 0.8697 - val_loss: 0.3363\n",
      "Epoch 10/100\n",
      "\u001b[1m337/337\u001b[0m \u001b[32m━━━━━━━━━━━━━━━━━━━━\u001b[0m\u001b[37m\u001b[0m \u001b[1m22s\u001b[0m 64ms/step - accuracy: 0.8258 - loss: 0.3951 - val_accuracy: 0.8626 - val_loss: 0.3236\n",
      "Epoch 11/100\n",
      "\u001b[1m337/337\u001b[0m \u001b[32m━━━━━━━━━━━━━━━━━━━━\u001b[0m\u001b[37m\u001b[0m \u001b[1m21s\u001b[0m 61ms/step - accuracy: 0.8327 - loss: 0.3843 - val_accuracy: 0.8737 - val_loss: 0.3305\n",
      "Epoch 12/100\n",
      "\u001b[1m337/337\u001b[0m \u001b[32m━━━━━━━━━━━━━━━━━━━━\u001b[0m\u001b[37m\u001b[0m \u001b[1m21s\u001b[0m 62ms/step - accuracy: 0.8370 - loss: 0.3775 - val_accuracy: 0.8693 - val_loss: 0.3085\n",
      "Epoch 13/100\n",
      "\u001b[1m337/337\u001b[0m \u001b[32m━━━━━━━━━━━━━━━━━━━━\u001b[0m\u001b[37m\u001b[0m \u001b[1m21s\u001b[0m 61ms/step - accuracy: 0.8321 - loss: 0.3772 - val_accuracy: 0.8726 - val_loss: 0.3056\n",
      "Epoch 14/100\n",
      "\u001b[1m337/337\u001b[0m \u001b[32m━━━━━━━━━━━━━━━━━━━━\u001b[0m\u001b[37m\u001b[0m \u001b[1m21s\u001b[0m 62ms/step - accuracy: 0.8375 - loss: 0.3739 - val_accuracy: 0.8719 - val_loss: 0.3070\n",
      "Epoch 15/100\n",
      "\u001b[1m337/337\u001b[0m \u001b[32m━━━━━━━━━━━━━━━━━━━━\u001b[0m\u001b[37m\u001b[0m \u001b[1m21s\u001b[0m 61ms/step - accuracy: 0.8388 - loss: 0.3662 - val_accuracy: 0.8719 - val_loss: 0.3137\n",
      "Epoch 16/100\n",
      "\u001b[1m337/337\u001b[0m \u001b[32m━━━━━━━━━━━━━━━━━━━━\u001b[0m\u001b[37m\u001b[0m \u001b[1m21s\u001b[0m 63ms/step - accuracy: 0.8402 - loss: 0.3617 - val_accuracy: 0.8789 - val_loss: 0.2868\n",
      "Epoch 17/100\n",
      "\u001b[1m337/337\u001b[0m \u001b[32m━━━━━━━━━━━━━━━━━━━━\u001b[0m\u001b[37m\u001b[0m \u001b[1m21s\u001b[0m 63ms/step - accuracy: 0.8437 - loss: 0.3605 - val_accuracy: 0.8793 - val_loss: 0.2878\n",
      "Epoch 18/100\n",
      "\u001b[1m337/337\u001b[0m \u001b[32m━━━━━━━━━━━━━━━━━━━━\u001b[0m\u001b[37m\u001b[0m \u001b[1m21s\u001b[0m 61ms/step - accuracy: 0.8431 - loss: 0.3555 - val_accuracy: 0.8808 - val_loss: 0.2835\n",
      "Epoch 19/100\n",
      "\u001b[1m337/337\u001b[0m \u001b[32m━━━━━━━━━━━━━━━━━━━━\u001b[0m\u001b[37m\u001b[0m \u001b[1m21s\u001b[0m 62ms/step - accuracy: 0.8554 - loss: 0.3381 - val_accuracy: 0.8830 - val_loss: 0.2795\n",
      "Epoch 20/100\n",
      "\u001b[1m337/337\u001b[0m \u001b[32m━━━━━━━━━━━━━━━━━━━━\u001b[0m\u001b[37m\u001b[0m \u001b[1m22s\u001b[0m 65ms/step - accuracy: 0.8550 - loss: 0.3417 - val_accuracy: 0.8867 - val_loss: 0.2810\n",
      "Epoch 21/100\n",
      "\u001b[1m337/337\u001b[0m \u001b[32m━━━━━━━━━━━━━━━━━━━━\u001b[0m\u001b[37m\u001b[0m \u001b[1m21s\u001b[0m 63ms/step - accuracy: 0.8363 - loss: 0.3557 - val_accuracy: 0.8808 - val_loss: 0.2890\n",
      "Epoch 22/100\n",
      "\u001b[1m337/337\u001b[0m \u001b[32m━━━━━━━━━━━━━━━━━━━━\u001b[0m\u001b[37m\u001b[0m \u001b[1m21s\u001b[0m 61ms/step - accuracy: 0.8489 - loss: 0.3472 - val_accuracy: 0.8849 - val_loss: 0.2819\n",
      "Epoch 23/100\n",
      "\u001b[1m337/337\u001b[0m \u001b[32m━━━━━━━━━━━━━━━━━━━━\u001b[0m\u001b[37m\u001b[0m \u001b[1m21s\u001b[0m 62ms/step - accuracy: 0.8449 - loss: 0.3480 - val_accuracy: 0.8838 - val_loss: 0.2766\n",
      "Epoch 24/100\n",
      "\u001b[1m337/337\u001b[0m \u001b[32m━━━━━━━━━━━━━━━━━━━━\u001b[0m\u001b[37m\u001b[0m \u001b[1m21s\u001b[0m 63ms/step - accuracy: 0.8512 - loss: 0.3451 - val_accuracy: 0.8867 - val_loss: 0.2724\n",
      "Epoch 25/100\n",
      "\u001b[1m337/337\u001b[0m \u001b[32m━━━━━━━━━━━━━━━━━━━━\u001b[0m\u001b[37m\u001b[0m \u001b[1m21s\u001b[0m 62ms/step - accuracy: 0.8500 - loss: 0.3361 - val_accuracy: 0.8834 - val_loss: 0.2714\n",
      "Epoch 26/100\n",
      "\u001b[1m337/337\u001b[0m \u001b[32m━━━━━━━━━━━━━━━━━━━━\u001b[0m\u001b[37m\u001b[0m \u001b[1m21s\u001b[0m 62ms/step - accuracy: 0.8447 - loss: 0.3349 - val_accuracy: 0.8875 - val_loss: 0.2679\n",
      "Epoch 27/100\n",
      "\u001b[1m337/337\u001b[0m \u001b[32m━━━━━━━━━━━━━━━━━━━━\u001b[0m\u001b[37m\u001b[0m \u001b[1m21s\u001b[0m 61ms/step - accuracy: 0.8667 - loss: 0.3193 - val_accuracy: 0.8875 - val_loss: 0.2768\n",
      "Epoch 28/100\n",
      "\u001b[1m337/337\u001b[0m \u001b[32m━━━━━━━━━━━━━━━━━━━━\u001b[0m\u001b[37m\u001b[0m \u001b[1m21s\u001b[0m 63ms/step - accuracy: 0.8494 - loss: 0.3360 - val_accuracy: 0.8893 - val_loss: 0.2632\n",
      "Epoch 29/100\n",
      "\u001b[1m337/337\u001b[0m \u001b[32m━━━━━━━━━━━━━━━━━━━━\u001b[0m\u001b[37m\u001b[0m \u001b[1m22s\u001b[0m 65ms/step - accuracy: 0.8553 - loss: 0.3306 - val_accuracy: 0.8815 - val_loss: 0.2761\n",
      "Epoch 30/100\n",
      "\u001b[1m337/337\u001b[0m \u001b[32m━━━━━━━━━━━━━━━━━━━━\u001b[0m\u001b[37m\u001b[0m \u001b[1m21s\u001b[0m 62ms/step - accuracy: 0.8581 - loss: 0.3334 - val_accuracy: 0.8838 - val_loss: 0.2658\n",
      "Epoch 31/100\n",
      "\u001b[1m337/337\u001b[0m \u001b[32m━━━━━━━━━━━━━━━━━━━━\u001b[0m\u001b[37m\u001b[0m \u001b[1m21s\u001b[0m 63ms/step - accuracy: 0.8592 - loss: 0.3279 - val_accuracy: 0.8864 - val_loss: 0.2639\n",
      "Epoch 32/100\n",
      "\u001b[1m337/337\u001b[0m \u001b[32m━━━━━━━━━━━━━━━━━━━━\u001b[0m\u001b[37m\u001b[0m \u001b[1m21s\u001b[0m 63ms/step - accuracy: 0.8543 - loss: 0.3239 - val_accuracy: 0.8830 - val_loss: 0.2709\n",
      "Epoch 33/100\n",
      "\u001b[1m337/337\u001b[0m \u001b[32m━━━━━━━━━━━━━━━━━━━━\u001b[0m\u001b[37m\u001b[0m \u001b[1m21s\u001b[0m 62ms/step - accuracy: 0.8565 - loss: 0.3329 - val_accuracy: 0.8845 - val_loss: 0.2893\n",
      "Epoch 34/100\n",
      "\u001b[1m337/337\u001b[0m \u001b[32m━━━━━━━━━━━━━━━━━━━━\u001b[0m\u001b[37m\u001b[0m \u001b[1m21s\u001b[0m 63ms/step - accuracy: 0.8555 - loss: 0.3221 - val_accuracy: 0.8867 - val_loss: 0.2667\n",
      "Epoch 35/100\n",
      "\u001b[1m337/337\u001b[0m \u001b[32m━━━━━━━━━━━━━━━━━━━━\u001b[0m\u001b[37m\u001b[0m \u001b[1m21s\u001b[0m 63ms/step - accuracy: 0.8589 - loss: 0.3226 - val_accuracy: 0.8897 - val_loss: 0.2655\n",
      "Epoch 36/100\n",
      "\u001b[1m337/337\u001b[0m \u001b[32m━━━━━━━━━━━━━━━━━━━━\u001b[0m\u001b[37m\u001b[0m \u001b[1m21s\u001b[0m 63ms/step - accuracy: 0.8721 - loss: 0.3065 - val_accuracy: 0.8905 - val_loss: 0.2597\n",
      "Epoch 37/100\n",
      "\u001b[1m337/337\u001b[0m \u001b[32m━━━━━━━━━━━━━━━━━━━━\u001b[0m\u001b[37m\u001b[0m \u001b[1m21s\u001b[0m 62ms/step - accuracy: 0.8585 - loss: 0.3210 - val_accuracy: 0.8845 - val_loss: 0.2723\n",
      "Epoch 38/100\n",
      "\u001b[1m337/337\u001b[0m \u001b[32m━━━━━━━━━━━━━━━━━━━━\u001b[0m\u001b[37m\u001b[0m \u001b[1m22s\u001b[0m 64ms/step - accuracy: 0.8634 - loss: 0.3256 - val_accuracy: 0.8860 - val_loss: 0.2601\n",
      "Epoch 39/100\n",
      "\u001b[1m337/337\u001b[0m \u001b[32m━━━━━━━━━━━━━━━━━━━━\u001b[0m\u001b[37m\u001b[0m \u001b[1m21s\u001b[0m 63ms/step - accuracy: 0.8593 - loss: 0.3237 - val_accuracy: 0.8879 - val_loss: 0.2598\n",
      "Epoch 40/100\n",
      "\u001b[1m337/337\u001b[0m \u001b[32m━━━━━━━━━━━━━━━━━━━━\u001b[0m\u001b[37m\u001b[0m \u001b[1m23s\u001b[0m 67ms/step - accuracy: 0.8609 - loss: 0.3213 - val_accuracy: 0.8875 - val_loss: 0.2656\n",
      "Epoch 41/100\n",
      "\u001b[1m337/337\u001b[0m \u001b[32m━━━━━━━━━━━━━━━━━━━━\u001b[0m\u001b[37m\u001b[0m \u001b[1m23s\u001b[0m 69ms/step - accuracy: 0.8619 - loss: 0.3210 - val_accuracy: 0.8849 - val_loss: 0.2870\n",
      "Epoch 42/100\n",
      "\u001b[1m337/337\u001b[0m \u001b[32m━━━━━━━━━━━━━━━━━━━━\u001b[0m\u001b[37m\u001b[0m \u001b[1m21s\u001b[0m 63ms/step - accuracy: 0.8600 - loss: 0.3243 - val_accuracy: 0.8897 - val_loss: 0.2695\n",
      "Epoch 43/100\n",
      "\u001b[1m337/337\u001b[0m \u001b[32m━━━━━━━━━━━━━━━━━━━━\u001b[0m\u001b[37m\u001b[0m \u001b[1m21s\u001b[0m 63ms/step - accuracy: 0.8635 - loss: 0.3194 - val_accuracy: 0.8823 - val_loss: 0.2676\n",
      "Epoch 44/100\n",
      "\u001b[1m337/337\u001b[0m \u001b[32m━━━━━━━━━━━━━━━━━━━━\u001b[0m\u001b[37m\u001b[0m \u001b[1m21s\u001b[0m 63ms/step - accuracy: 0.8644 - loss: 0.3141 - val_accuracy: 0.8867 - val_loss: 0.2653\n",
      "Epoch 45/100\n",
      "\u001b[1m337/337\u001b[0m \u001b[32m━━━━━━━━━━━━━━━━━━━━\u001b[0m\u001b[37m\u001b[0m \u001b[1m22s\u001b[0m 65ms/step - accuracy: 0.8678 - loss: 0.3047 - val_accuracy: 0.8893 - val_loss: 0.2622\n",
      "Epoch 46/100\n",
      "\u001b[1m337/337\u001b[0m \u001b[32m━━━━━━━━━━━━━━━━━━━━\u001b[0m\u001b[37m\u001b[0m \u001b[1m21s\u001b[0m 63ms/step - accuracy: 0.8625 - loss: 0.3153 - val_accuracy: 0.8886 - val_loss: 0.2653\n",
      "Epoch 47/100\n",
      "\u001b[1m337/337\u001b[0m \u001b[32m━━━━━━━━━━━━━━━━━━━━\u001b[0m\u001b[37m\u001b[0m \u001b[1m22s\u001b[0m 65ms/step - accuracy: 0.8654 - loss: 0.3123 - val_accuracy: 0.8897 - val_loss: 0.2608\n",
      "Epoch 48/100\n",
      "\u001b[1m337/337\u001b[0m \u001b[32m━━━━━━━━━━━━━━━━━━━━\u001b[0m\u001b[37m\u001b[0m \u001b[1m22s\u001b[0m 64ms/step - accuracy: 0.8599 - loss: 0.3132 - val_accuracy: 0.8864 - val_loss: 0.2778\n",
      "Epoch 49/100\n",
      "\u001b[1m337/337\u001b[0m \u001b[32m━━━━━━━━━━━━━━━━━━━━\u001b[0m\u001b[37m\u001b[0m \u001b[1m22s\u001b[0m 66ms/step - accuracy: 0.8625 - loss: 0.3090 - val_accuracy: 0.8905 - val_loss: 0.2543\n",
      "Epoch 50/100\n",
      "\u001b[1m337/337\u001b[0m \u001b[32m━━━━━━━━━━━━━━━━━━━━\u001b[0m\u001b[37m\u001b[0m \u001b[1m21s\u001b[0m 64ms/step - accuracy: 0.8656 - loss: 0.3109 - val_accuracy: 0.8897 - val_loss: 0.2531\n",
      "Epoch 51/100\n",
      "\u001b[1m337/337\u001b[0m \u001b[32m━━━━━━━━━━━━━━━━━━━━\u001b[0m\u001b[37m\u001b[0m \u001b[1m21s\u001b[0m 63ms/step - accuracy: 0.8592 - loss: 0.3191 - val_accuracy: 0.8875 - val_loss: 0.2601\n",
      "Epoch 52/100\n",
      "\u001b[1m337/337\u001b[0m \u001b[32m━━━━━━━━━━━━━━━━━━━━\u001b[0m\u001b[37m\u001b[0m \u001b[1m21s\u001b[0m 63ms/step - accuracy: 0.8649 - loss: 0.3124 - val_accuracy: 0.8871 - val_loss: 0.2546\n",
      "Epoch 53/100\n",
      "\u001b[1m337/337\u001b[0m \u001b[32m━━━━━━━━━━━━━━━━━━━━\u001b[0m\u001b[37m\u001b[0m \u001b[1m22s\u001b[0m 65ms/step - accuracy: 0.8673 - loss: 0.3082 - val_accuracy: 0.8919 - val_loss: 0.2562\n",
      "Epoch 54/100\n",
      "\u001b[1m337/337\u001b[0m \u001b[32m━━━━━━━━━━━━━━━━━━━━\u001b[0m\u001b[37m\u001b[0m \u001b[1m21s\u001b[0m 63ms/step - accuracy: 0.8615 - loss: 0.3121 - val_accuracy: 0.8867 - val_loss: 0.2691\n",
      "Epoch 55/100\n",
      "\u001b[1m337/337\u001b[0m \u001b[32m━━━━━━━━━━━━━━━━━━━━\u001b[0m\u001b[37m\u001b[0m \u001b[1m21s\u001b[0m 63ms/step - accuracy: 0.8690 - loss: 0.2968 - val_accuracy: 0.8897 - val_loss: 0.2672\n",
      "Epoch 56/100\n",
      "\u001b[1m337/337\u001b[0m \u001b[32m━━━━━━━━━━━━━━━━━━━━\u001b[0m\u001b[37m\u001b[0m \u001b[1m22s\u001b[0m 64ms/step - accuracy: 0.8641 - loss: 0.3058 - val_accuracy: 0.8890 - val_loss: 0.2521\n",
      "Epoch 57/100\n",
      "\u001b[1m337/337\u001b[0m \u001b[32m━━━━━━━━━━━━━━━━━━━━\u001b[0m\u001b[37m\u001b[0m \u001b[1m21s\u001b[0m 63ms/step - accuracy: 0.8624 - loss: 0.3184 - val_accuracy: 0.8923 - val_loss: 0.2478\n",
      "Epoch 58/100\n",
      "\u001b[1m337/337\u001b[0m \u001b[32m━━━━━━━━━━━━━━━━━━━━\u001b[0m\u001b[37m\u001b[0m \u001b[1m22s\u001b[0m 64ms/step - accuracy: 0.8635 - loss: 0.3145 - val_accuracy: 0.8901 - val_loss: 0.2518\n",
      "Epoch 59/100\n",
      "\u001b[1m337/337\u001b[0m \u001b[32m━━━━━━━━━━━━━━━━━━━━\u001b[0m\u001b[37m\u001b[0m \u001b[1m22s\u001b[0m 64ms/step - accuracy: 0.8653 - loss: 0.3066 - val_accuracy: 0.8912 - val_loss: 0.2530\n",
      "Epoch 60/100\n",
      "\u001b[1m337/337\u001b[0m \u001b[32m━━━━━━━━━━━━━━━━━━━━\u001b[0m\u001b[37m\u001b[0m \u001b[1m22s\u001b[0m 64ms/step - accuracy: 0.8697 - loss: 0.3019 - val_accuracy: 0.8890 - val_loss: 0.2511\n",
      "Epoch 61/100\n",
      "\u001b[1m337/337\u001b[0m \u001b[32m━━━━━━━━━━━━━━━━━━━━\u001b[0m\u001b[37m\u001b[0m \u001b[1m22s\u001b[0m 64ms/step - accuracy: 0.8740 - loss: 0.2912 - val_accuracy: 0.8875 - val_loss: 0.2519\n",
      "Epoch 62/100\n",
      "\u001b[1m337/337\u001b[0m \u001b[32m━━━━━━━━━━━━━━━━━━━━\u001b[0m\u001b[37m\u001b[0m \u001b[1m21s\u001b[0m 63ms/step - accuracy: 0.8688 - loss: 0.3007 - val_accuracy: 0.8882 - val_loss: 0.2542\n",
      "Epoch 63/100\n",
      "\u001b[1m337/337\u001b[0m \u001b[32m━━━━━━━━━━━━━━━━━━━━\u001b[0m\u001b[37m\u001b[0m \u001b[1m21s\u001b[0m 63ms/step - accuracy: 0.8701 - loss: 0.2989 - val_accuracy: 0.8901 - val_loss: 0.2522\n",
      "Epoch 64/100\n",
      "\u001b[1m337/337\u001b[0m \u001b[32m━━━━━━━━━━━━━━━━━━━━\u001b[0m\u001b[37m\u001b[0m \u001b[1m21s\u001b[0m 63ms/step - accuracy: 0.8653 - loss: 0.3004 - val_accuracy: 0.8893 - val_loss: 0.2490\n",
      "Epoch 65/100\n",
      "\u001b[1m337/337\u001b[0m \u001b[32m━━━━━━━━━━━━━━━━━━━━\u001b[0m\u001b[37m\u001b[0m \u001b[1m21s\u001b[0m 63ms/step - accuracy: 0.8596 - loss: 0.3111 - val_accuracy: 0.8897 - val_loss: 0.2519\n",
      "Epoch 66/100\n",
      "\u001b[1m337/337\u001b[0m \u001b[32m━━━━━━━━━━━━━━━━━━━━\u001b[0m\u001b[37m\u001b[0m \u001b[1m21s\u001b[0m 63ms/step - accuracy: 0.8694 - loss: 0.2967 - val_accuracy: 0.8893 - val_loss: 0.2496\n",
      "Epoch 67/100\n",
      "\u001b[1m337/337\u001b[0m \u001b[32m━━━━━━━━━━━━━━━━━━━━\u001b[0m\u001b[37m\u001b[0m \u001b[1m21s\u001b[0m 64ms/step - accuracy: 0.8649 - loss: 0.3039 - val_accuracy: 0.8886 - val_loss: 0.2524\n",
      "Epoch 68/100\n",
      "\u001b[1m337/337\u001b[0m \u001b[32m━━━━━━━━━━━━━━━━━━━━\u001b[0m\u001b[37m\u001b[0m \u001b[1m21s\u001b[0m 63ms/step - accuracy: 0.8709 - loss: 0.2985 - val_accuracy: 0.8905 - val_loss: 0.2584\n",
      "Epoch 69/100\n",
      "\u001b[1m337/337\u001b[0m \u001b[32m━━━━━━━━━━━━━━━━━━━━\u001b[0m\u001b[37m\u001b[0m \u001b[1m21s\u001b[0m 63ms/step - accuracy: 0.8691 - loss: 0.3045 - val_accuracy: 0.8882 - val_loss: 0.2582\n",
      "Epoch 70/100\n",
      "\u001b[1m337/337\u001b[0m \u001b[32m━━━━━━━━━━━━━━━━━━━━\u001b[0m\u001b[37m\u001b[0m \u001b[1m21s\u001b[0m 63ms/step - accuracy: 0.8653 - loss: 0.3017 - val_accuracy: 0.8927 - val_loss: 0.2532\n",
      "Epoch 71/100\n",
      "\u001b[1m337/337\u001b[0m \u001b[32m━━━━━━━━━━━━━━━━━━━━\u001b[0m\u001b[37m\u001b[0m \u001b[1m21s\u001b[0m 63ms/step - accuracy: 0.8698 - loss: 0.3056 - val_accuracy: 0.8886 - val_loss: 0.2536\n",
      "Epoch 72/100\n",
      "\u001b[1m337/337\u001b[0m \u001b[32m━━━━━━━━━━━━━━━━━━━━\u001b[0m\u001b[37m\u001b[0m \u001b[1m21s\u001b[0m 63ms/step - accuracy: 0.8717 - loss: 0.3016 - val_accuracy: 0.8890 - val_loss: 0.2572\n",
      "Epoch 73/100\n",
      "\u001b[1m337/337\u001b[0m \u001b[32m━━━━━━━━━━━━━━━━━━━━\u001b[0m\u001b[37m\u001b[0m \u001b[1m21s\u001b[0m 64ms/step - accuracy: 0.8657 - loss: 0.2991 - val_accuracy: 0.8908 - val_loss: 0.2548\n",
      "Epoch 74/100\n",
      "\u001b[1m337/337\u001b[0m \u001b[32m━━━━━━━━━━━━━━━━━━━━\u001b[0m\u001b[37m\u001b[0m \u001b[1m22s\u001b[0m 64ms/step - accuracy: 0.8742 - loss: 0.2928 - val_accuracy: 0.8871 - val_loss: 0.2597\n",
      "Epoch 75/100\n",
      "\u001b[1m337/337\u001b[0m \u001b[32m━━━━━━━━━━━━━━━━━━━━\u001b[0m\u001b[37m\u001b[0m \u001b[1m22s\u001b[0m 64ms/step - accuracy: 0.8719 - loss: 0.3012 - val_accuracy: 0.8860 - val_loss: 0.2598\n",
      "Epoch 76/100\n",
      "\u001b[1m337/337\u001b[0m \u001b[32m━━━━━━━━━━━━━━━━━━━━\u001b[0m\u001b[37m\u001b[0m \u001b[1m22s\u001b[0m 64ms/step - accuracy: 0.8678 - loss: 0.3015 - val_accuracy: 0.8864 - val_loss: 0.2562\n",
      "Epoch 77/100\n",
      "\u001b[1m337/337\u001b[0m \u001b[32m━━━━━━━━━━━━━━━━━━━━\u001b[0m\u001b[37m\u001b[0m \u001b[1m21s\u001b[0m 64ms/step - accuracy: 0.8750 - loss: 0.2904 - val_accuracy: 0.8916 - val_loss: 0.2494\n",
      "Epoch 78/100\n",
      "\u001b[1m337/337\u001b[0m \u001b[32m━━━━━━━━━━━━━━━━━━━━\u001b[0m\u001b[37m\u001b[0m \u001b[1m21s\u001b[0m 63ms/step - accuracy: 0.8728 - loss: 0.2993 - val_accuracy: 0.8879 - val_loss: 0.2515\n",
      "Epoch 79/100\n",
      "\u001b[1m337/337\u001b[0m \u001b[32m━━━━━━━━━━━━━━━━━━━━\u001b[0m\u001b[37m\u001b[0m \u001b[1m22s\u001b[0m 64ms/step - accuracy: 0.8748 - loss: 0.2971 - val_accuracy: 0.8919 - val_loss: 0.2461\n",
      "Epoch 80/100\n",
      "\u001b[1m337/337\u001b[0m \u001b[32m━━━━━━━━━━━━━━━━━━━━\u001b[0m\u001b[37m\u001b[0m \u001b[1m21s\u001b[0m 64ms/step - accuracy: 0.8655 - loss: 0.2983 - val_accuracy: 0.8882 - val_loss: 0.2529\n",
      "Epoch 81/100\n",
      "\u001b[1m337/337\u001b[0m \u001b[32m━━━━━━━━━━━━━━━━━━━━\u001b[0m\u001b[37m\u001b[0m \u001b[1m21s\u001b[0m 63ms/step - accuracy: 0.8695 - loss: 0.2932 - val_accuracy: 0.8882 - val_loss: 0.2613\n",
      "Epoch 82/100\n",
      "\u001b[1m337/337\u001b[0m \u001b[32m━━━━━━━━━━━━━━━━━━━━\u001b[0m\u001b[37m\u001b[0m \u001b[1m21s\u001b[0m 63ms/step - accuracy: 0.8686 - loss: 0.2957 - val_accuracy: 0.8853 - val_loss: 0.2550\n",
      "Epoch 83/100\n",
      "\u001b[1m337/337\u001b[0m \u001b[32m━━━━━━━━━━━━━━━━━━━━\u001b[0m\u001b[37m\u001b[0m \u001b[1m22s\u001b[0m 65ms/step - accuracy: 0.8693 - loss: 0.2948 - val_accuracy: 0.8897 - val_loss: 0.2532\n",
      "Epoch 84/100\n",
      "\u001b[1m337/337\u001b[0m \u001b[32m━━━━━━━━━━━━━━━━━━━━\u001b[0m\u001b[37m\u001b[0m \u001b[1m23s\u001b[0m 67ms/step - accuracy: 0.8722 - loss: 0.2910 - val_accuracy: 0.8905 - val_loss: 0.2511\n",
      "Epoch 85/100\n",
      "\u001b[1m337/337\u001b[0m \u001b[32m━━━━━━━━━━━━━━━━━━━━\u001b[0m\u001b[37m\u001b[0m \u001b[1m22s\u001b[0m 64ms/step - accuracy: 0.8648 - loss: 0.3074 - val_accuracy: 0.8879 - val_loss: 0.2521\n",
      "Epoch 86/100\n",
      "\u001b[1m337/337\u001b[0m \u001b[32m━━━━━━━━━━━━━━━━━━━━\u001b[0m\u001b[37m\u001b[0m \u001b[1m23s\u001b[0m 67ms/step - accuracy: 0.8757 - loss: 0.2934 - val_accuracy: 0.8919 - val_loss: 0.2490\n",
      "Epoch 87/100\n",
      "\u001b[1m337/337\u001b[0m \u001b[32m━━━━━━━━━━━━━━━━━━━━\u001b[0m\u001b[37m\u001b[0m \u001b[1m22s\u001b[0m 64ms/step - accuracy: 0.8719 - loss: 0.2892 - val_accuracy: 0.8901 - val_loss: 0.2552\n",
      "Epoch 88/100\n",
      "\u001b[1m337/337\u001b[0m \u001b[32m━━━━━━━━━━━━━━━━━━━━\u001b[0m\u001b[37m\u001b[0m \u001b[1m21s\u001b[0m 64ms/step - accuracy: 0.8725 - loss: 0.2955 - val_accuracy: 0.8905 - val_loss: 0.2496\n",
      "Epoch 89/100\n",
      "\u001b[1m337/337\u001b[0m \u001b[32m━━━━━━━━━━━━━━━━━━━━\u001b[0m\u001b[37m\u001b[0m \u001b[1m23s\u001b[0m 69ms/step - accuracy: 0.8661 - loss: 0.2999 - val_accuracy: 0.8893 - val_loss: 0.2491\n",
      "Epoch 90/100\n",
      "\u001b[1m337/337\u001b[0m \u001b[32m━━━━━━━━━━━━━━━━━━━━\u001b[0m\u001b[37m\u001b[0m \u001b[1m23s\u001b[0m 68ms/step - accuracy: 0.8750 - loss: 0.2879 - val_accuracy: 0.8890 - val_loss: 0.2823\n",
      "Epoch 91/100\n",
      "\u001b[1m337/337\u001b[0m \u001b[32m━━━━━━━━━━━━━━━━━━━━\u001b[0m\u001b[37m\u001b[0m \u001b[1m22s\u001b[0m 64ms/step - accuracy: 0.8706 - loss: 0.2881 - val_accuracy: 0.8901 - val_loss: 0.2492\n",
      "Epoch 92/100\n",
      "\u001b[1m337/337\u001b[0m \u001b[32m━━━━━━━━━━━━━━━━━━━━\u001b[0m\u001b[37m\u001b[0m \u001b[1m22s\u001b[0m 64ms/step - accuracy: 0.8706 - loss: 0.2986 - val_accuracy: 0.8923 - val_loss: 0.2493\n",
      "Epoch 93/100\n",
      "\u001b[1m337/337\u001b[0m \u001b[32m━━━━━━━━━━━━━━━━━━━━\u001b[0m\u001b[37m\u001b[0m \u001b[1m22s\u001b[0m 65ms/step - accuracy: 0.8750 - loss: 0.2897 - val_accuracy: 0.8886 - val_loss: 0.2565\n",
      "Epoch 94/100\n",
      "\u001b[1m337/337\u001b[0m \u001b[32m━━━━━━━━━━━━━━━━━━━━\u001b[0m\u001b[37m\u001b[0m \u001b[1m22s\u001b[0m 64ms/step - accuracy: 0.8800 - loss: 0.2823 - val_accuracy: 0.8890 - val_loss: 0.2520\n",
      "Epoch 95/100\n",
      "\u001b[1m337/337\u001b[0m \u001b[32m━━━━━━━━━━━━━━━━━━━━\u001b[0m\u001b[37m\u001b[0m \u001b[1m22s\u001b[0m 65ms/step - accuracy: 0.8743 - loss: 0.2925 - val_accuracy: 0.8908 - val_loss: 0.2490\n",
      "Epoch 96/100\n",
      "\u001b[1m337/337\u001b[0m \u001b[32m━━━━━━━━━━━━━━━━━━━━\u001b[0m\u001b[37m\u001b[0m \u001b[1m22s\u001b[0m 65ms/step - accuracy: 0.8715 - loss: 0.2956 - val_accuracy: 0.8916 - val_loss: 0.2537\n",
      "Epoch 97/100\n",
      "\u001b[1m337/337\u001b[0m \u001b[32m━━━━━━━━━━━━━━━━━━━━\u001b[0m\u001b[37m\u001b[0m \u001b[1m22s\u001b[0m 65ms/step - accuracy: 0.8696 - loss: 0.2946 - val_accuracy: 0.8890 - val_loss: 0.2521\n",
      "Epoch 98/100\n",
      "\u001b[1m337/337\u001b[0m \u001b[32m━━━━━━━━━━━━━━━━━━━━\u001b[0m\u001b[37m\u001b[0m \u001b[1m22s\u001b[0m 65ms/step - accuracy: 0.8703 - loss: 0.2993 - val_accuracy: 0.8886 - val_loss: 0.2547\n",
      "Epoch 99/100\n",
      "\u001b[1m337/337\u001b[0m \u001b[32m━━━━━━━━━━━━━━━━━━━━\u001b[0m\u001b[37m\u001b[0m \u001b[1m22s\u001b[0m 65ms/step - accuracy: 0.8759 - loss: 0.2874 - val_accuracy: 0.8931 - val_loss: 0.2515\n",
      "Epoch 100/100\n",
      "\u001b[1m337/337\u001b[0m \u001b[32m━━━━━━━━━━━━━━━━━━━━\u001b[0m\u001b[37m\u001b[0m \u001b[1m22s\u001b[0m 65ms/step - accuracy: 0.8718 - loss: 0.2885 - val_accuracy: 0.8916 - val_loss: 0.2456\n",
      "Test loss: 0.24562343955039978\n",
      "Test accuracy: 0.8915707468986511\n"
     ]
    }
   ],
   "source": [
    "# Train the model\n",
    "history = eegnet.fit(X_train, y_train, epochs=100, batch_size=32, validation_data=(X_test, y_test))\n",
    "\n",
    "# Evaluate the model\n",
    "score = eegnet.evaluate(X_test, y_test, verbose=0)\n",
    "print('Test loss:', score[0])\n",
    "print('Test accuracy:', score[1])\n"
   ]
  },
  {
   "cell_type": "code",
   "execution_count": 19,
   "id": "53940b81-d4de-414d-9be7-b0ae5bbdb489",
   "metadata": {},
   "outputs": [
    {
     "name": "stdout",
     "output_type": "stream",
     "text": [
      "Test accuracy: 0.8915707468986511\n"
     ]
    }
   ],
   "source": [
    "print('Test accuracy:', score[1])"
   ]
  }
 ],
 "metadata": {
  "kernelspec": {
   "display_name": "Python 3 (ipykernel)",
   "language": "python",
   "name": "python3"
  },
  "language_info": {
   "codemirror_mode": {
    "name": "ipython",
    "version": 3
   },
   "file_extension": ".py",
   "mimetype": "text/x-python",
   "name": "python",
   "nbconvert_exporter": "python",
   "pygments_lexer": "ipython3",
   "version": "3.12.3"
  }
 },
 "nbformat": 4,
 "nbformat_minor": 5
}
